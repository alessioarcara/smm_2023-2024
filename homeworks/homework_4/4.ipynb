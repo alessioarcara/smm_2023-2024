{
 "cells": [
  {
   "cell_type": "markdown",
   "id": "6aa80381-41af-448d-b41a-e3e08764029b",
   "metadata": {
    "jp-MarkdownHeadingCollapsed": true
   },
   "source": [
    "* $X\\in\\mathbb{R}^{N}$\n",
    "* $\\Phi\\in\\mathbb{R}^{N\\times K}$\n",
    "* $\\theta_{true}=(1,1,\\ldots,1)^T\\in\\mathbb{R}^{K}$\n",
    "* $Y=\\Phi(X)\\theta_{true}+e$ where $e\\sim\\mathcal{N}(0,\\sigma^2 I)$\n",
    "* $\\mathbb{D}=\\left\\{X,Y\\right\\}$\n"
   ]
  },
  {
   "cell_type": "code",
   "execution_count": 10,
   "id": "46699331-4a46-4bf1-9122-b266f2e11b36",
   "metadata": {},
   "outputs": [],
   "source": [
    "import numpy as np\n",
    "from numpy.linalg import norm, inv\n",
    "import matplotlib.pyplot as plt\n",
    "\n",
    "def grad_mle(theta, D):\n",
    "    Phi_X, Y = D \n",
    "    return Phi_X.T @ (Phi_X @ theta - Y)\n",
    "\n",
    "# Normal equations\n",
    "def compute_mle(D, K):\n",
    "    Phi_X, Y = D\n",
    "    return np.linalg.inv(Phi_X.T @ Phi_X) @ Phi_X.T @ Y\n",
    "\n",
    "def sgd(l, grad_l, w0, D, batch_size, n_epochs, a=0.1):\n",
    "    X, Y = data\n",
    "    N = X.shape[1]\n",
    "    print(X.shape)\n",
    "    w = [w0]\n",
    "\n",
    "    for epoch in range(n_epochs):\n",
    "        indices = np.arange(N)\n",
    "        np.random.shuffle(indices)\n",
    "\n",
    "        for i in range(0, N, batch_size):\n",
    "            batch_indices = indices[i:i+batch_size]\n",
    "            X_batch = X[:, batch_indices]\n",
    "            Y_batch = Y[batch_indices]\n",
    "\n",
    "            grad = grad_l(w[-1], X_batch, Y_batch)\n",
    "            w.append(w[-1] - a * grad) \n",
    " \n",
    "    return w\n",
    "\n",
    "# def gd(l, grad_l, w0, data, a = 0.1, kmax = 1000, tolf = 1e-6, tolx = 1e-6):\n",
    "#     X, Y = data\n",
    "#     k = 0\n",
    "#     w = [w0]\n",
    "#     err = [norm(grad_l(w[0], X, Y), 2)]\n",
    "    \n",
    "#     condition = True\n",
    "#     while condition:\n",
    "#         grad = grad_l(w[-1], X, Y)\n",
    "#         w.append(w[-1] - a * grad) \n",
    "#         err.append(norm(grad, 2))\n",
    "\n",
    "#         condition1 = err[-1] >= tolf * err[0]\n",
    "#         condition2 = norm(w[-1] - w[-2], 2) >= tolx \n",
    "#         condition3 = k < kmax\n",
    "#         condition = condition1 and condition2 and condition3\n",
    "\n",
    "#         if not condition1:\n",
    "#             print(f\"Stopped: ||grad_f(x_k)||_2 < tolf * ||grad_f(x_0)||_2 (tolf reached) at iteration {k+1}\")\n",
    "#         elif not condition2:\n",
    "#             print(f\"Stopped: ||x_k - x_k-1||_2 < tolx (tolx reached) at iteration {k+1}\")\n",
    "#         elif not condition3:\n",
    "#             print(f\"Stopped: k >= kmax (maximum number of iterations reached)\")\n",
    "\n",
    "#         k += 1\n",
    "        \n",
    "#     return w, err "
   ]
  },
  {
   "cell_type": "code",
   "execution_count": 23,
   "id": "c7517b48-b972-4437-a2a2-c580c6d836b8",
   "metadata": {},
   "outputs": [
    {
     "data": {
      "text/plain": [
       "(3,)"
      ]
     },
     "execution_count": 23,
     "metadata": {},
     "output_type": "execute_result"
    }
   ],
   "source": [
    "import numpy as np\n",
    "\n",
    "def make_dataset(K, N, a, b, sigma, seed=42):\n",
    "    theta_true = np.ones(K)\n",
    "    \n",
    "    X = np.linspace(a, b, N)\n",
    "    \n",
    "    Phi_X = np.vander(X, K, increasing=True)\n",
    "\n",
    "    np.random.seed(seed)\n",
    "    noise = np.random.normal(0, np.sqrt(sigma), N)\n",
    "\n",
    "    Y = Phi_X @ theta_true + noise\n",
    "\n",
    "    return X, Y, Phi_X, theta_true\n",
    "\n",
    "K = 3\n",
    "N = 10\n",
    "a = 1\n",
    "b = 2\n",
    "sigma = 0.5\n",
    "X, Y, Phi_X, theta_true = make_dataset(K, N, a, b, sigma)\n",
    "compute_mle((Phi_X, Y), 3).shape"
   ]
  },
  {
   "cell_type": "code",
   "execution_count": 22,
   "id": "5ef90602-88ee-4705-ba92-cb6b56768c7a",
   "metadata": {},
   "outputs": [],
   "source": [
    "theta0 = np.random.normal(K)"
   ]
  },
  {
   "cell_type": "code",
   "execution_count": null,
   "id": "e4abc9a3-6467-4a74-b9b9-aa6e596bed83",
   "metadata": {},
   "outputs": [],
   "source": []
  }
 ],
 "metadata": {
  "kernelspec": {
   "display_name": "Python 3 (ipykernel)",
   "language": "python",
   "name": "python3"
  },
  "language_info": {
   "codemirror_mode": {
    "name": "ipython",
    "version": 3
   },
   "file_extension": ".py",
   "mimetype": "text/x-python",
   "name": "python",
   "nbconvert_exporter": "python",
   "pygments_lexer": "ipython3",
   "version": "3.12.3"
  }
 },
 "nbformat": 4,
 "nbformat_minor": 5
}
